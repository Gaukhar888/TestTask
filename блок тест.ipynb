{
 "cells": [
  {
   "cell_type": "code",
   "execution_count": 2,
   "id": "2cbd5403-ce24-453b-af95-d25959177749",
   "metadata": {},
   "outputs": [
    {
     "data": {
      "text/html": [
       "<div>\n",
       "<style scoped>\n",
       "    .dataframe tbody tr th:only-of-type {\n",
       "        vertical-align: middle;\n",
       "    }\n",
       "\n",
       "    .dataframe tbody tr th {\n",
       "        vertical-align: top;\n",
       "    }\n",
       "\n",
       "    .dataframe thead th {\n",
       "        text-align: right;\n",
       "    }\n",
       "</style>\n",
       "<table border=\"1\" class=\"dataframe\">\n",
       "  <thead>\n",
       "    <tr style=\"text-align: right;\">\n",
       "      <th></th>\n",
       "      <th>date</th>\n",
       "      <th>user_id</th>\n",
       "      <th>view_adverts</th>\n",
       "    </tr>\n",
       "  </thead>\n",
       "  <tbody>\n",
       "    <tr>\n",
       "      <th>0</th>\n",
       "      <td>2023-11-11</td>\n",
       "      <td>8c020470-8461-11ed-83d0-552e8cc749d6</td>\n",
       "      <td>13</td>\n",
       "    </tr>\n",
       "    <tr>\n",
       "      <th>1</th>\n",
       "      <td>2023-11-18</td>\n",
       "      <td>5875f070-7b92-11ee-a6fb-8b298e83f4f7</td>\n",
       "      <td>14</td>\n",
       "    </tr>\n",
       "    <tr>\n",
       "      <th>2</th>\n",
       "      <td>2023-11-29</td>\n",
       "      <td>3c2d27c0-4fd6-11eb-b89f-2ffb31b67dd6</td>\n",
       "      <td>21</td>\n",
       "    </tr>\n",
       "    <tr>\n",
       "      <th>3</th>\n",
       "      <td>2023-11-29</td>\n",
       "      <td>234a96d0-ad16-11ed-a2e6-793ddfeeba1f</td>\n",
       "      <td>23</td>\n",
       "    </tr>\n",
       "    <tr>\n",
       "      <th>4</th>\n",
       "      <td>2023-11-29</td>\n",
       "      <td>4d07c180-644f-11eb-879c-b7c02edf4f37</td>\n",
       "      <td>12</td>\n",
       "    </tr>\n",
       "  </tbody>\n",
       "</table>\n",
       "</div>"
      ],
      "text/plain": [
       "         date                               user_id  view_adverts\n",
       "0  2023-11-11  8c020470-8461-11ed-83d0-552e8cc749d6            13\n",
       "1  2023-11-18  5875f070-7b92-11ee-a6fb-8b298e83f4f7            14\n",
       "2  2023-11-29  3c2d27c0-4fd6-11eb-b89f-2ffb31b67dd6            21\n",
       "3  2023-11-29  234a96d0-ad16-11ed-a2e6-793ddfeeba1f            23\n",
       "4  2023-11-29  4d07c180-644f-11eb-879c-b7c02edf4f37            12"
      ]
     },
     "execution_count": 2,
     "metadata": {},
     "output_type": "execute_result"
    }
   ],
   "source": [
    "import pandas as pd\n",
    "\n",
    "file_path = \"Данные для тестового задания - Данные об аудитории.csv\"  # Укажи реальный путь\n",
    "df = pd.read_csv(file_path, encoding=\"utf-8\")\n",
    "df.head()"
   ]
  },
  {
   "cell_type": "code",
   "execution_count": 16,
   "id": "f66e855d-14e5-4f8e-8edf-d6518b542ad0",
   "metadata": {},
   "outputs": [],
   "source": [
    "import pandas as pd\n",
    "\n",
    "# Загружаем данные\n",
    "file_path = \"Данные для тестового задания.xlsx\"\n",
    "\n",
    "df_audience = pd.read_excel(file_path, sheet_name=\"Данные об аудитории\")\n",
    "df_ab_test = pd.read_excel(file_path, sheet_name=\"Данные АБ тестов\")\n",
    "df_listers = pd.read_excel(file_path, sheet_name=\"Листеры\")"
   ]
  },
  {
   "cell_type": "code",
   "execution_count": 17,
   "id": "a2578992-f0a8-4579-94ad-3d70c8edd953",
   "metadata": {},
   "outputs": [
    {
     "name": "stdout",
     "output_type": "stream",
     "text": [
      "Данные об аудитории:\n",
      "        date                               user_id  view_adverts\n",
      "0 2023-11-11  8c020470-8461-11ed-83d0-552e8cc749d6            13\n",
      "1 2023-11-18  5875f070-7b92-11ee-a6fb-8b298e83f4f7            14\n",
      "2 2023-11-29  3c2d27c0-4fd6-11eb-b89f-2ffb31b67dd6            21\n",
      "3 2023-11-29  234a96d0-ad16-11ed-a2e6-793ddfeeba1f            23\n",
      "4 2023-11-29  4d07c180-644f-11eb-879c-b7c02edf4f37            12\n",
      "\n",
      "Данные АБ тестов:\n",
      "   experiment_num experiment_group   user_id  revenue\n",
      "0               1             test     38456      520\n",
      "1               1          control  13125924      806\n",
      "2               1          control   9761984        0\n",
      "3               1             test  11387012      208\n",
      "4               1             test  18319648      104\n",
      "\n",
      "Листеры:\n",
      "   user_id       date  cnt_adverts  age  cnt_contacts  revenue\n",
      "0      100 2022-01-01            6   21           119       53\n",
      "1      100 2022-01-02            2   21           200       18\n",
      "2      100 2022-01-03            6   21           193       42\n",
      "3      100 2022-01-04            2   21           143       38\n",
      "4      100 2022-01-05            2   21           190       40\n"
     ]
    }
   ],
   "source": [
    "print(\"Данные об аудитории:\")\n",
    "print(df_audience.head())\n",
    "\n",
    "print(\"\\nДанные АБ тестов:\")\n",
    "print(df_ab_test.head())\n",
    "\n",
    "print(\"\\nЛистеры:\")\n",
    "print(df_listers.head())"
   ]
  },
  {
   "cell_type": "code",
   "execution_count": 18,
   "id": "049a8c36-a21a-450b-903d-e36c764e3858",
   "metadata": {},
   "outputs": [
    {
     "name": "stdout",
     "output_type": "stream",
     "text": [
      "MAU: 7639\n"
     ]
    }
   ],
   "source": [
    "df_audience[\"month\"] = df_audience[\"date\"].dt.to_period(\"M\")  # Добавляем столбец с месяцем\n",
    "mau = df_audience.groupby(\"month\")[\"user_id\"].nunique().mean()  # Среднее число уникальных пользователей в месяц\n",
    "print(f\"MAU: {int(mau)}\")"
   ]
  },
  {
   "cell_type": "code",
   "execution_count": 19,
   "id": "50f67037-6ff6-4be5-a9b4-36814f1b3def",
   "metadata": {},
   "outputs": [
    {
     "name": "stdout",
     "output_type": "stream",
     "text": [
      "Средний DAU: 560\n"
     ]
    }
   ],
   "source": [
    "dau = df_audience.groupby(\"date\")[\"user_id\"].nunique().mean()\n",
    "print(f\"Средний DAU: {int(dau)}\")"
   ]
  },
  {
   "cell_type": "code",
   "execution_count": 26,
   "id": "d9afde93-7d25-4f35-b980-09788ce9a139",
   "metadata": {},
   "outputs": [
    {
     "name": "stdout",
     "output_type": "stream",
     "text": [
      "Retention D1: 26.6%\n"
     ]
    }
   ],
   "source": [
    "import pandas as pd\n",
    "\n",
    "# Загружаем данные\n",
    "file_path = \"Данные для тестового задания.xlsx\"\n",
    "df = pd.read_excel(file_path, sheet_name=\"Данные об аудитории\")\n",
    "\n",
    "# Приводим дату к формату datetime\n",
    "df['date'] = pd.to_datetime(df['date'])\n",
    "\n",
    "# Выбираем пользователей, впервые зашедших 1 ноября\n",
    "nov_1_users = df[df['date'] == '2023-11-01']['user_id'].unique()\n",
    "\n",
    "# Проверяем, сколько из них вернулись 2 ноября\n",
    "nov_2_users = df[(df['date'] == '2023-11-02') & (df['user_id'].isin(nov_1_users))]['user_id'].nunique()\n",
    "\n",
    "# Общая численность новых пользователей 1 ноября\n",
    "total_nov_1 = len(nov_1_users)\n",
    "\n",
    "# Считаем Retention D1\n",
    "retention_d1 = (nov_2_users / total_nov_1) * 100 if total_nov_1 > 0 else 0\n",
    "\n",
    "print(f\"Retention D1: {retention_d1:.1f}%\")"
   ]
  },
  {
   "cell_type": "code",
   "execution_count": 33,
   "id": "eae73195-fbcc-46d7-8ad9-9cc2b8530229",
   "metadata": {},
   "outputs": [
    {
     "name": "stdout",
     "output_type": "stream",
     "text": [
      "Retention первого дня: 33.3%\n"
     ]
    }
   ],
   "source": [
    "import pandas as pd\n",
    "\n",
    "\n",
    "data = {\n",
    "    \"date\": [\"2023-11-01\", \"2023-11-01\", \"2023-11-01\", \"2023-11-02\", \"2023-11-02\"],\n",
    "    \"user_id\": [\"user_1\", \"user_2\", \"user_3\", \"user_1\", \"user_4\"],\n",
    "    \"view_adverts\": [5, 7, 10, 3, 6]  # Количество просмотров рекламы (не влияет на расчет)\n",
    "}\n",
    "\n",
    "df = pd.DataFrame(data)\n",
    "\n",
    "# Преобразуем дату в формат datetime\n",
    "df[\"date\"] = pd.to_datetime(df[\"date\"])\n",
    "\n",
    "# Находим пользователей, пришедших 1 ноября\n",
    "nov_1_users = df[df[\"date\"] == \"2023-11-01\"][\"user_id\"].unique()\n",
    "\n",
    "# Определяем, сколько из них вернулись 2 ноября\n",
    "retained_users = df[(df[\"date\"] == \"2023-11-02\") & (df[\"user_id\"].isin(nov_1_users))][\"user_id\"].nunique()\n",
    "\n",
    "# Общее число пользователей 1 ноября\n",
    "total_users_nov1 = len(nov_1_users)\n",
    "\n",
    "# Вычисляем Retention первого дня\n",
    "retention_day1 = (retained_users / total_users_nov1) * 100\n",
    "\n",
    "print(f\"Retention первого дня: {retention_day1:.1f}%\")"
   ]
  },
  {
   "cell_type": "code",
   "execution_count": 31,
   "id": "8fdb4b3b-964c-42fa-83c2-ff781f397ad2",
   "metadata": {},
   "outputs": [
    {
     "name": "stdout",
     "output_type": "stream",
     "text": [
      "Конверсия: 46.3%\n"
     ]
    }
   ],
   "source": [
    "import pandas as pd\n",
    "\n",
    "# Загружаем данные\n",
    "df = pd.read_excel(\"Данные для тестового задания.xlsx\", parse_dates=[\"date\"])\n",
    "\n",
    "# Фильтруем пользователей только за ноябрь 2023\n",
    "df_november = df[(df[\"date\"].dt.month == 11) & (df[\"date\"].dt.year == 2023)]\n",
    "\n",
    "# Общее количество уникальных пользователей\n",
    "total_users = df_november[\"user_id\"].nunique()\n",
    "\n",
    "# Количество пользователей, которые посмотрели хотя бы одно объявление\n",
    "users_who_viewed = df_november[df_november[\"view_adverts\"] > 0][\"user_id\"].nunique()\n",
    "\n",
    "# Вычисляем конверсию\n",
    "conversion_rate = (users_who_viewed / total_users) * 100\n",
    "print(f\"Конверсия: {conversion_rate:.1f}%\")"
   ]
  },
  {
   "cell_type": "code",
   "execution_count": 34,
   "id": "3fd17ef2-14cd-4843-b785-aa6d73dd78ad",
   "metadata": {},
   "outputs": [
    {
     "name": "stdout",
     "output_type": "stream",
     "text": [
      "Среднее количество просмотренных объявлений на пользователя в ноябре: 2.8687000916350307\n"
     ]
    }
   ],
   "source": [
    "import pandas as pd\n",
    "\n",
    "# Загружаем данные\n",
    "df = pd.read_excel(\"Данные для тестового задания.xlsx\")  \n",
    "\n",
    "# Преобразуем дату в нужный формат\n",
    "df[\"date\"] = pd.to_datetime(df[\"date\"])\n",
    "\n",
    "# Фильтруем данные за ноябрь 2023\n",
    "df_november = df[df[\"date\"].dt.strftime('%Y-%m') == \"2023-11\"]\n",
    "\n",
    "# Считаем общее количество просмотров и уникальных пользователей\n",
    "total_views = df_november[\"view_adverts\"].sum()\n",
    "unique_users = df_november[\"user_id\"].nunique()\n",
    "\n",
    "# Рассчитываем среднее количество просмотров на пользователя\n",
    "average_views = total_views / unique_users\n",
    "\n",
    "print(f\"Среднее количество просмотренных объявлений на пользователя в ноябре: {average_views}\")"
   ]
  },
  {
   "cell_type": "code",
   "execution_count": 35,
   "id": "a060c48d-5d51-4967-86e6-30969026af18",
   "metadata": {},
   "outputs": [
    {
     "name": "stdout",
     "output_type": "stream",
     "text": [
      "NPS: 35.0\n"
     ]
    }
   ],
   "source": [
    "# Данные\n",
    "total_users = 2000\n",
    "detractors = 500\n",
    "promoters = 1200\n",
    "\n",
    "# Расчет процентов\n",
    "detractors_percent = (detractors / total_users) * 100\n",
    "promoters_percent = (promoters / total_users) * 100\n",
    "\n",
    "# Вычисление NPS\n",
    "nps = promoters_percent - detractors_percent\n",
    "\n",
    "print(f\"NPS: {nps}\")"
   ]
  },
  {
   "cell_type": "code",
   "execution_count": 36,
   "id": "4effd905-f37f-4596-b9d9-1b4faf35136f",
   "metadata": {},
   "outputs": [],
   "source": [
    "import pandas as pd\n",
    "\n",
    "# Загружаем данные из Excel\n",
    "df = pd.read_excel(\"Данные для тестового задания.xlsx\") "
   ]
  },
  {
   "cell_type": "code",
   "execution_count": 39,
   "id": "047f91d6-3dac-48f3-b4a4-7b845a114c90",
   "metadata": {},
   "outputs": [],
   "source": [
    "df = pd.read_excel(\"Данные для тестового задания.xlsx\", sheet_name=\"Данные АБ тестов\")"
   ]
  },
  {
   "cell_type": "code",
   "execution_count": 41,
   "id": "583200f4-b1ca-4ed7-81af-f8c47d2279c4",
   "metadata": {},
   "outputs": [
    {
     "name": "stdout",
     "output_type": "stream",
     "text": [
      "Эксперимент 1:\n",
      "  Средний ARPU (Test): 665.74\n",
      "  Средний ARPU (Control): 722.46\n",
      "  p-value: 0.68897\n",
      "\n",
      "Эксперимент 2:\n",
      "  Средний ARPU (Test): 332.93\n",
      "  Средний ARPU (Control): 704.65\n",
      "  p-value: 0.00113\n",
      "\n",
      "Эксперимент 3:\n",
      "  Средний ARPU (Test): 998.67\n",
      "  Средний ARPU (Control): 663.21\n",
      "  p-value: 0.06032\n",
      "\n"
     ]
    }
   ],
   "source": [
    "import scipy.stats as stats\n",
    "results = []\n",
    "for exp_num in df['experiment_num'].unique():\n",
    "    exp_data = df[df['experiment_num'] == exp_num]\n",
    "    \n",
    "    # Разделение на группы\n",
    "    control = exp_data[exp_data['experiment_group'] == 'control']['revenue']\n",
    "    test = exp_data[exp_data['experiment_group'] == 'test']['revenue']\n",
    "    \n",
    "    # t-тест для проверки различий в ARPU\n",
    "    t_stat, p_value = stats.ttest_ind(test, control, equal_var=False)\n",
    "    \n",
    "    # Запись результатов\n",
    "    results.append((exp_num, test.mean(), control.mean(), p_value))\n",
    "\n",
    "# Вывод результатов\n",
    "for res in results:\n",
    "    print(f\"Эксперимент {res[0]}:\")\n",
    "    print(f\"  Средний ARPU (Test): {res[1]:.2f}\")\n",
    "    print(f\"  Средний ARPU (Control): {res[2]:.2f}\")\n",
    "    print(f\"  p-value: {res[3]:.5f}\\n\")"
   ]
  },
  {
   "cell_type": "code",
   "execution_count": 42,
   "id": "339c7ebc-9d66-4862-97cc-2d5d4c1579e6",
   "metadata": {},
   "outputs": [
    {
     "name": "stdout",
     "output_type": "stream",
     "text": [
      "Средний доход на пользователя (ARPU): 156.48\n"
     ]
    }
   ],
   "source": [
    "import pandas as pd\n",
    "\n",
    "# Загрузка данных\n",
    "df = pd.read_excel(\"Данные для тестового задания.xlsx\", sheet_name=\"Листеры\") \n",
    "\n",
    "# Расчет ARPU\n",
    "total_revenue = df[\"revenue\"].sum()\n",
    "unique_users = df[\"user_id\"].nunique()\n",
    "arpu = total_revenue / unique_users\n",
    "\n",
    "print(f\"Средний доход на пользователя (ARPU): {arpu:.2f}\")"
   ]
  },
  {
   "cell_type": "code",
   "execution_count": 43,
   "id": "51134470-c4fc-440e-b0c8-81588e5ea6d4",
   "metadata": {},
   "outputs": [
    {
     "name": "stdout",
     "output_type": "stream",
     "text": [
      "Медианный возраст пользователей: 28.0\n"
     ]
    }
   ],
   "source": [
    "import pandas as pd\n",
    "\n",
    "# Загрузка данных\n",
    "df = pd.read_excel(\"Данные для тестового задания.xlsx\", sheet_name=\"Листеры\") \n",
    "\n",
    "# Расчет медианы возраста\n",
    "median_age = df[\"age\"].median()\n",
    "\n",
    "print(f\"Медианный возраст пользователей: {median_age:.1f}\")"
   ]
  },
  {
   "cell_type": "code",
   "execution_count": 44,
   "id": "483bd989-b0a8-4637-902b-87e005654278",
   "metadata": {},
   "outputs": [
    {
     "data": {
      "image/png": "[encoded data removed]",
      "text/plain": [
       "<Figure size 800x500 with 1 Axes>"
      ]
     },
     "metadata": {},
     "output_type": "display_data"
    }
   ],
   "source": [
    "import pandas as pd\n",
    "import seaborn as sns\n",
    "import matplotlib.pyplot as plt\n",
    "\n",
    "# Пример данных\n",
    "df = pd.DataFrame({\n",
    "    \"store\": [\"A\", \"A\", \"A\", \"B\", \"B\", \"B\", \"C\", \"C\", \"C\"],\n",
    "    \"price\": [100, 110, 95, 120, 130, 125, 90, 85, 95]\n",
    "})\n",
    "\n",
    "# Создаем boxplot\n",
    "plt.figure(figsize=(8, 5))\n",
    "sns.boxplot(x=\"store\", y=\"price\", data=df)\n",
    "plt.xlabel(\"Магазин\")\n",
    "plt.ylabel(\"Цена\")\n",
    "plt.title(\"Разброс цен на товары по магазинам\")\n",
    "plt.show()"
   ]
  },
  {
   "cell_type": "code",
   "execution_count": 45,
   "id": "31a235d2-d3e7-4476-bf60-5acf5defaaa7",
   "metadata": {},
   "outputs": [
    {
     "data": {
      "image/png": "[encoded data removed]",
      "text/plain": [
       "<Figure size 800x500 with 1 Axes>"
      ]
     },
     "metadata": {},
     "output_type": "display_data"
    }
   ],
   "source": [
    "import pandas as pd\n",
    "import numpy as np\n",
    "import matplotlib.pyplot as plt\n",
    "import seaborn as sns\n",
    "from scipy.stats import kurtosis\n",
    "\n",
    "# Генерируем случайные данные с бимодальным распределением\n",
    "data1 = np.random.normal(20, 5, 1000)\n",
    "data2 = np.random.normal(40, 5, 1000)\n",
    "data = np.concatenate([data1, data2])\n",
    "\n",
    "# Построение гистограммы с KDE\n",
    "plt.figure(figsize=(8, 5))\n",
    "sns.histplot(data, bins=30, kde=True)\n",
    "plt.title(\"Гистограмма и KDE распределения\")\n",
    "plt.xlabel(\"Значение\")\n",
    "plt.ylabel(\"Частота\")\n",
    "plt.show()"
   ]
  },
  {
   "cell_type": "code",
   "execution_count": 47,
   "id": "7df055bf-5d9a-49d4-93a3-bdafd5074d0a",
   "metadata": {},
   "outputs": [
    {
     "name": "stdout",
     "output_type": "stream",
     "text": [
      "        date                               user_id  view_adverts\n",
      "0 2023-11-11  8c020470-8461-11ed-83d0-552e8cc749d6            13\n",
      "1 2023-11-18  5875f070-7b92-11ee-a6fb-8b298e83f4f7            14\n",
      "2 2023-11-29  3c2d27c0-4fd6-11eb-b89f-2ffb31b67dd6            21\n",
      "3 2023-11-29  234a96d0-ad16-11ed-a2e6-793ddfeeba1f            23\n",
      "4 2023-11-29  4d07c180-644f-11eb-879c-b7c02edf4f37            12\n",
      "Дисперсии случайных величин:\n",
      " view_adverts    13.605369\n",
      "dtype: float64\n",
      "Случайная величина с наибольшей дисперсией: view_adverts\n"
     ]
    },
    {
     "data": {
      "image/png": "[encoded data removed]",
      "text/plain": [
       "<Figure size 1000x600 with 1 Axes>"
      ]
     },
     "metadata": {},
     "output_type": "display_data"
    }
   ],
   "source": [
    "import pandas as pd\n",
    "import numpy as np\n",
    "import matplotlib.pyplot as plt\n",
    "import seaborn as sns\n",
    "\n",
    "# Загрузим данные (замени 'your_file.csv' на название файла)\n",
    "df = pd.read_excel(\"Данные для тестового задания.xlsx\")\n",
    "\n",
    "# Посмотрим на названия колонок\n",
    "print(df.head())\n",
    "\n",
    "# Фильтруем только числовые столбцы\n",
    "numeric_df = df.select_dtypes(include=[np.number])\n",
    "\n",
    "# Вычислим дисперсию для каждой случайной величины (теперь только для числовых данных)\n",
    "variances = numeric_df.var()\n",
    "print(\"Дисперсии случайных величин:\\n\", variances)\n",
    "\n",
    "# Найдём случайную величину с наибольшей дисперсией\n",
    "max_variance_column = variances.idxmax()\n",
    "print(f\"Случайная величина с наибольшей дисперсией: {max_variance_column}\")\n",
    "\n",
    "# Визуализация плотности распределения всех случайных величин\n",
    "plt.figure(figsize=(10, 6))\n",
    "for column in numeric_df.columns:\n",
    "    sns.kdeplot(numeric_df[column], label=column)\n",
    "\n",
    "plt.legend()\n",
    "plt.title(\"Плотность распределения случайных величин\")\n",
    "plt.xlabel(\"Значение\")\n",
    "plt.ylabel(\"Плотность\")\n",
    "plt.show()"
   ]
  },
  {
   "cell_type": "code",
   "execution_count": 51,
   "id": "e3c4ffd7-d360-4c91-8570-cb1dd802310f",
   "metadata": {},
   "outputs": [
    {
     "name": "stdout",
     "output_type": "stream",
     "text": [
      "t-статистика: -11.12449958505838\n",
      "p-value: 1.691513200661755e-09\n",
      "Отклоняем нулевую гипотезу: данные статистически значимы.\n"
     ]
    }
   ],
   "source": [
    "import scipy.stats as stats\n",
    "\n",
    "# Примерные данные для двух выборок\n",
    "sample_1 = [23, 21, 19, 24, 25, 22, 23, 20, 21, 22]\n",
    "sample_2 = [30, 29, 31, 32, 30, 29, 28, 33, 30, 31]\n",
    "\n",
    "# Выполним двухвыборочный t-тест (для проверки гипотезы о равенстве средних)\n",
    "t_stat, p_value = stats.ttest_ind(sample_1, sample_2)\n",
    "\n",
    "# Уровень значимости (alpha)\n",
    "alpha = 0.05\n",
    "\n",
    "# Выводим результаты\n",
    "print(f\"t-статистика: {t_stat}\")\n",
    "print(f\"p-value: {p_value}\")\n",
    "\n",
    "# Проверка гипотезы\n",
    "if p_value <= alpha:\n",
    "    print(\"Отклоняем нулевую гипотезу: данные статистически значимы.\")\n",
    "else:\n",
    "    print(\"Не отклоняем нулевую гипотезу: данные не статистически значимы.\")"
   ]
  },
  {
   "cell_type": "code",
   "execution_count": 52,
   "id": "3853e225-b6ef-43b9-abbb-76e18113e93c",
   "metadata": {},
   "outputs": [
    {
     "name": "stdout",
     "output_type": "stream",
     "text": [
      "Тест Шапиро-Уилка для sample_1: p-value = 0.9819299383121692\n",
      "Тест Шапиро-Уилка для sample_2: p-value = 0.8539548329946732\n",
      "Обе выборки нормальны.\n",
      "Тест Левене: p-value = 0.5252701050338544\n",
      "Дисперсии выборок равны. Будем использовать стандартный t-тест.\n",
      "t-статистика: -11.12449958505838\n",
      "p-value: 1.691513200661755e-09\n",
      "Отклоняем нулевую гипотезу: данные статистически значимы.\n"
     ]
    }
   ],
   "source": [
    "import scipy.stats as stats\n",
    "import numpy as np\n",
    "\n",
    "# Примерные данные для двух выборок\n",
    "sample_1 = [23, 21, 19, 24, 25, 22, 23, 20, 21, 22]\n",
    "sample_2 = [30, 29, 31, 32, 30, 29, 28, 33, 30, 31]\n",
    "\n",
    "# Проверка на нормальность данных с использованием теста Шапиро-Уилка\n",
    "shapiro_test_1 = stats.shapiro(sample_1)\n",
    "shapiro_test_2 = stats.shapiro(sample_2)\n",
    "\n",
    "print(f\"Тест Шапиро-Уилка для sample_1: p-value = {shapiro_test_1.pvalue}\")\n",
    "print(f\"Тест Шапиро-Уилка для sample_2: p-value = {shapiro_test_2.pvalue}\")\n",
    "\n",
    "# Если p-value < 0.05, то данные не нормальны, в противном случае они нормальны\n",
    "if shapiro_test_1.pvalue < 0.05 or shapiro_test_2.pvalue < 0.05:\n",
    "    print(\"Одна или обе выборки не нормальны.\")\n",
    "else:\n",
    "    print(\"Обе выборки нормальны.\")\n",
    "\n",
    "# Проверка на равенство дисперсий с помощью теста Левене\n",
    "levene_test = stats.levene(sample_1, sample_2)\n",
    "print(f\"Тест Левене: p-value = {levene_test.pvalue}\")\n",
    "\n",
    "# Если p-value < 0.05, то дисперсии выборок разные, в противном случае они равны\n",
    "if levene_test.pvalue < 0.05:\n",
    "    print(\"Дисперсии выборок разные. Будем использовать Welch's t-test.\")\n",
    "    # Выполним Welch's t-test, если дисперсии разные\n",
    "    t_stat, p_value = stats.ttest_ind(sample_1, sample_2, equal_var=False)\n",
    "else:\n",
    "    print(\"Дисперсии выборок равны. Будем использовать стандартный t-тест.\")\n",
    "    # Выполним стандартный t-тест, если дисперсии равны\n",
    "    t_stat, p_value = stats.ttest_ind(sample_1, sample_2)\n",
    "\n",
    "# Уровень значимости (alpha)\n",
    "alpha = 0.05\n",
    "\n",
    "# Выводим результаты\n",
    "print(f\"t-статистика: {t_stat}\")\n",
    "print(f\"p-value: {p_value}\")\n",
    "\n",
    "# Проверка гипотезы\n",
    "if p_value <= alpha:\n",
    "    print(\"Отклоняем нулевую гипотезу: данные статистически значимы.\")\n",
    "else:\n",
    "    print(\"Не отклоняем нулевую гипотезу: данные не статистически значимы.\")"
   ]
  },
  {
   "cell_type": "code",
   "execution_count": 53,
   "id": "14b4099d-7025-4518-9765-5ed57a0d58d1",
   "metadata": {},
   "outputs": [
    {
     "name": "stdout",
     "output_type": "stream",
     "text": [
      "Первый квартиль (Q1): 31250.0\n",
      "Медиана (Q2): 45000.0\n",
      "Третий квартиль (Q3): 110000.0\n",
      "Межквартильный размах (IQR): 78750.0\n",
      "Минимальный доход: 20000\n",
      "Максимальный доход: 220000\n"
     ]
    }
   ],
   "source": [
    "import pandas as pd\n",
    "import numpy as np\n",
    "\n",
    "# Пример данных о доходах пользователей\n",
    "data = [30000, 25000, 40000, 50000, 80000, 120000, 150000, 20000, 220000, 35000]\n",
    "\n",
    "# Создаем DataFrame для удобства\n",
    "df = pd.DataFrame(data, columns=['Income'])\n",
    "\n",
    "# Вычисляем квартильные значения\n",
    "Q1 = df['Income'].quantile(0.25)  # Первый квартиль\n",
    "Q2 = df['Income'].quantile(0.5)   # Медиана (второй квартиль)\n",
    "Q3 = df['Income'].quantile(0.75)  # Третий квартиль\n",
    "IQR = Q3 - Q1  # Межквартильный размах\n",
    "\n",
    "# Выводим результаты\n",
    "print(f\"Первый квартиль (Q1): {Q1}\")\n",
    "print(f\"Медиана (Q2): {Q2}\")\n",
    "print(f\"Третий квартиль (Q3): {Q3}\")\n",
    "print(f\"Межквартильный размах (IQR): {IQR}\")\n",
    "\n",
    "# Вычислим минимальный и максимальный доход\n",
    "min_income = df['Income'].min()\n",
    "max_income = df['Income'].max()\n",
    "\n",
    "print(f\"Минимальный доход: {min_income}\")\n",
    "print(f\"Максимальный доход: {max_income}\")"
   ]
  },
  {
   "cell_type": "code",
   "execution_count": 54,
   "id": "d8b1ed3c-b259-448e-90ff-096d240f7b86",
   "metadata": {},
   "outputs": [
    {
     "name": "stdout",
     "output_type": "stream",
     "text": [
      "z-статистика: -2.1045506019397746\n",
      "Критическое значение z: 1.959963984540054\n",
      "Отклоняем нулевую гипотезу: существует статистически значимая разница.\n"
     ]
    }
   ],
   "source": [
    "import numpy as np\n",
    "import scipy.stats as stats\n",
    "\n",
    "# Данные\n",
    "visitors_A = 100047501\n",
    "visitors_B = 100001055\n",
    "payments_A = 1003\n",
    "payments_B = 1099\n",
    "\n",
    "# Конверсии для каждой группы\n",
    "p_A = payments_A / visitors_A\n",
    "p_B = payments_B / visitors_B\n",
    "\n",
    "# Общая конверсия\n",
    "p = (payments_A + payments_B) / (visitors_A + visitors_B)\n",
    "\n",
    "# Размеры выборок\n",
    "n_A = visitors_A\n",
    "n_B = visitors_B\n",
    "\n",
    "# Вычисляем z-статистику\n",
    "z = (p_A - p_B) / np.sqrt(p * (1 - p) * (1/n_A + 1/n_B))\n",
    "\n",
    "# Критическое значение для уровня значимости 0.05\n",
    "alpha = 0.05\n",
    "z_critical = stats.norm.ppf(1 - alpha / 2)\n",
    "\n",
    "# Результат\n",
    "print(f\"z-статистика: {z}\")\n",
    "print(f\"Критическое значение z: {z_critical}\")\n",
    "\n",
    "# Проверка на статистическую значимость\n",
    "if abs(z) > z_critical:\n",
    "    print(\"Отклоняем нулевую гипотезу: существует статистически значимая разница.\")\n",
    "else:\n",
    "    print(\"Не отклоняем нулевую гипотезу: статистически значимой разницы нет.\")"
   ]
  },
  {
   "cell_type": "code",
   "execution_count": null,
   "id": "271ee1be-51e4-44c1-be2a-40710b3e030c",
   "metadata": {},
   "outputs": [],
   "source": []
  }
 ],
 "metadata": {
  "kernelspec": {
   "display_name": "Python 3 (ipykernel)",
   "language": "python",
   "name": "python3"
  },
  "language_info": {
   "codemirror_mode": {
    "name": "ipython",
    "version": 3
   },
   "file_extension": ".py",
   "mimetype": "text/x-python",
   "name": "python",
   "nbconvert_exporter": "python",
   "pygments_lexer": "ipython3",
   "version": "3.12.7"
  }
 },
 "nbformat": 4,
 "nbformat_minor": 5
}
